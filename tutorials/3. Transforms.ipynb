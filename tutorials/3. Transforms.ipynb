{
 "cells": [
  {
   "cell_type": "markdown",
   "metadata": {},
   "source": [
    "# Transforms\n",
    "\n",
    "Medical images are unique in that the structure of the data is quite consistent across individuals. Think about the brain - it has the same overall shape but with small nuances that cause big differences in outcomes.\n",
    "\n",
    "We can use this to our advantage by applying random transforms - also known as data augmentation - to our images during model training in order to get more out of the images available to us. By applying random transforms in the right way, it really is like getting a completely new participant in our dataset. \n",
    "\n",
    "In this tutorial, you will be introduced to both fixed (i.e., preprocessing) and random (i.e., augmentation) transforms in nitrain. Applying transforms in nitrain is incredibly powerful, but our philosophy of working only on actual medical image objects, rather than arrays, may have a learning curve for some.\n",
    "\n",
    "Let's start by creating an in-memory dataset of 3D brain images along with associated chronological age values."
   ]
  },
  {
   "cell_type": "code",
   "execution_count": 2,
   "metadata": {},
   "outputs": [
    {
     "name": "stdout",
     "output_type": "stream",
     "text": [
      "[ANTsImage (RPI)\n",
      "\t Pixel Type : float (float32)\n",
      "\t Components : 1\n",
      "\t Dimensions : (182, 218, 182)\n",
      "\t Spacing    : (1.0, 1.0, 1.0)\n",
      "\t Origin     : (-90.0, 126.0, -72.0)\n",
      "\t Direction  : [ 1.  0.  0.  0. -1.  0.  0.  0.  1.]\n",
      ", ANTsImage (RPI)\n",
      "\t Pixel Type : float (float32)\n",
      "\t Components : 1\n",
      "\t Dimensions : (182, 218, 182)\n",
      "\t Spacing    : (1.0, 1.0, 1.0)\n",
      "\t Origin     : (-90.0, 126.0, -72.0)\n",
      "\t Direction  : [ 1.  0.  0.  0. -1.  0.  0.  0.  1.]\n",
      "]\n"
     ]
    }
   ],
   "source": [
    "import ants\n",
    "from nitrain.datasets import MemoryDataset, fetch_data\n",
    "\n",
    "dataset = fetch_data('example/t1-age')\n",
    "print(dataset.x[:2])"
   ]
  },
  {
   "cell_type": "code",
   "execution_count": null,
   "metadata": {},
   "outputs": [],
   "source": []
  }
 ],
 "metadata": {
  "kernelspec": {
   "display_name": "nitrain-McIVFYQ0-py3.10",
   "language": "python",
   "name": "python3"
  },
  "language_info": {
   "codemirror_mode": {
    "name": "ipython",
    "version": 3
   },
   "file_extension": ".py",
   "mimetype": "text/x-python",
   "name": "python",
   "nbconvert_exporter": "python",
   "pygments_lexer": "ipython3",
   "version": "3.10.11"
  }
 },
 "nbformat": 4,
 "nbformat_minor": 2
}
