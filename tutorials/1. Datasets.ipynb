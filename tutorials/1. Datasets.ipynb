{
 "cells": [
  {
   "cell_type": "markdown",
   "metadata": {},
   "source": [
    "# Datasets - reading neuroimaging data into memory\n",
    "\n",
    "Datasets in nitrain help you efficiently take neuroimages and other data types from whatever source they are current in and read them into memory. This tutorial will go through all the different kinds of datasets in nitrain and how you can use them."
   ]
  },
  {
   "cell_type": "code",
   "execution_count": null,
   "metadata": {},
   "outputs": [],
   "source": []
  }
 ],
 "metadata": {
  "language_info": {
   "name": "python"
  }
 },
 "nbformat": 4,
 "nbformat_minor": 2
}
